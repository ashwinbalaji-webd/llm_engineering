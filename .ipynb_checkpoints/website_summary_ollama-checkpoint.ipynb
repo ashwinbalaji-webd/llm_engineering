{
 "cells": [
  {
   "cell_type": "code",
   "execution_count": 3,
   "id": "5a2ac99e-5578-4f12-9ed4-4e9c24d92674",
   "metadata": {},
   "outputs": [],
   "source": [
    "import requests\n",
    "from bs4 import BeautifulSoup\n",
    "from IPython.display import display, Markdown"
   ]
  },
  {
   "cell_type": "code",
   "execution_count": 50,
   "id": "ded0b2b0-c739-4f6b-8511-eaaa98283255",
   "metadata": {},
   "outputs": [],
   "source": [
    "OLLAMA_API_GENERATE=\"http://localhost:11434/api/generate\"\n",
    "OLLAMA_API_CHAT=\"http://localhost:11434/api/chat\" # keeps chat history\n",
    "MODEL=\"llama3.2\"\n",
    "HEADERS={\"Content-type\" : \"application/json\"}"
   ]
  },
  {
   "cell_type": "code",
   "execution_count": 51,
   "id": "230bd5b4-988d-40e4-a2cc-9549f2fa31d4",
   "metadata": {},
   "outputs": [],
   "source": [
    "prompt=\"Tell me somehing about TVK political party in Tamil Nadu, India\""
   ]
  },
  {
   "cell_type": "code",
   "execution_count": 52,
   "id": "c0933acd-7c96-4b36-9514-efd92bb0c665",
   "metadata": {},
   "outputs": [],
   "source": [
    "request_body = {\n",
    "    \"model\" : MODEL,\n",
    "    \"messages\" : prompt,\n",
    "    \"stream\" : False\n",
    "}"
   ]
  },
  {
   "cell_type": "code",
   "execution_count": 56,
   "id": "24b06463-f9af-4dad-a8a8-cc8f346f5589",
   "metadata": {},
   "outputs": [
    {
     "name": "stdout",
     "output_type": "stream",
     "text": [
      "<Response [200]>\n",
      "{'_content': b'{\"model\":\"llama3.2:1b\",\"created_at\":\"2025-05-09T13:40:41.216080014Z\",\"response\":\"\",\"done\":true,\"done_reason\":\"load\"}', '_content_consumed': True, '_next': None, 'status_code': 200, 'headers': {'Content-Type': 'application/json; charset=utf-8', 'Date': 'Fri, 09 May 2025 13:40:41 GMT', 'Content-Length': '116'}, 'raw': <urllib3.response.HTTPResponse object at 0x7f39398448e0>, 'url': 'http://localhost:11434/api/generate', 'encoding': 'utf-8', 'history': [], 'reason': 'OK', 'cookies': <RequestsCookieJar[]>, 'elapsed': datetime.timedelta(microseconds=51300), 'request': <PreparedRequest [POST]>, 'connection': <requests.adapters.HTTPAdapter object at 0x7f3938da7690>}\n"
     ]
    }
   ],
   "source": [
    "r = requests.post(OLLAMA_API_GENERATE, json=request_body, headers=HEADERS)\n",
    "print(r)\n",
    "print(r.__dict__)"
   ]
  },
  {
   "cell_type": "code",
   "execution_count": null,
   "id": "87347056-0a54-4db5-b369-7cff7fb32f0d",
   "metadata": {},
   "outputs": [],
   "source": []
  },
  {
   "cell_type": "code",
   "execution_count": null,
   "id": "c2bdb8c5-6629-41dd-ae1b-cae54c0014be",
   "metadata": {},
   "outputs": [],
   "source": []
  }
 ],
 "metadata": {
  "kernelspec": {
   "display_name": "Python 3 (ipykernel)",
   "language": "python",
   "name": "python3"
  },
  "language_info": {
   "codemirror_mode": {
    "name": "ipython",
    "version": 3
   },
   "file_extension": ".py",
   "mimetype": "text/x-python",
   "name": "python",
   "nbconvert_exporter": "python",
   "pygments_lexer": "ipython3",
   "version": "3.11.12"
  }
 },
 "nbformat": 4,
 "nbformat_minor": 5
}
