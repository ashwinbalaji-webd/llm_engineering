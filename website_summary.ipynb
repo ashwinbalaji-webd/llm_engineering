{
 "cells": [
  {
   "cell_type": "code",
   "execution_count": 7,
   "id": "1a3eeb3d-d64c-4812-bb87-bf99cbe106c0",
   "metadata": {},
   "outputs": [
    {
     "name": "stdout",
     "output_type": "stream",
     "text": [
      "API key found and looks good so far!\n"
     ]
    }
   ],
   "source": [
    "# Load environment variables in a file called .env\n",
    "\n",
    "load_dotenv(override=True)\n",
    "api_key = os.getenv('OPENAI_API_KEY')\n",
    "\n",
    "# Check the key\n",
    "\n",
    "if not api_key:\n",
    "    print(\"No API key was found - please head over to the troubleshooting notebook in this folder to identify & fix!\")\n",
    "elif not api_key.startswith(\"sk-proj-\"):\n",
    "    print(\"An API key was found, but it doesn't start sk-proj-; please check you're using the right key - see troubleshooting notebook\")\n",
    "elif api_key.strip() != api_key:\n",
    "    print(\"An API key was found, but it looks like it might have space or tab characters at the start or end - please remove them - see troubleshooting notebook\")\n",
    "else:\n",
    "    print(\"API key found and looks good so far!\")\n"
   ]
  },
  {
   "cell_type": "code",
   "execution_count": 8,
   "id": "3a4243fa-0397-437f-a427-0b721d3aba3e",
   "metadata": {},
   "outputs": [],
   "source": [
    "import requests\n",
    "import os\n",
    "from bs4 import BeautifulSoup\n",
    "from dotenv import load_dotenv\n",
    "from openai import OpenAI\n",
    "from IPython.display import display, Markdown"
   ]
  },
  {
   "cell_type": "code",
   "execution_count": 10,
   "id": "418c4e07-c36c-41c0-bcc8-ec979787ee98",
   "metadata": {},
   "outputs": [],
   "source": [
    "openai = OpenAI()"
   ]
  },
  {
   "cell_type": "code",
   "execution_count": 12,
   "id": "9e5c1df9-e5cf-43c5-821f-e1e7adc63537",
   "metadata": {},
   "outputs": [],
   "source": [
    "headers = {\n",
    " \"User-Agent\": \"Mozilla/5.0 (Windows NT 10.0; Win64; x64) AppleWebKit/537.36 (KHTML, like Gecko) Chrome/117.0.0.0 Safari/537.36\"\n",
    "}\n",
    "\n",
    "class Website:\n",
    "\n",
    "    def __init__(self, url):\n",
    "        \"\"\"\n",
    "        Create this Website object from the given url using the BeautifulSoup library\n",
    "        \"\"\"\n",
    "        self.url = url\n",
    "        response = requests.get(url, headers=headers)\n",
    "        soup = BeautifulSoup(response.content, 'html.parser')\n",
    "        self.title = soup.title.string if soup.title else \"No title found\"\n",
    "        for irrelevant in soup.body([\"script\", \"style\", \"img\", \"input\"]):\n",
    "            irrelevant.decompose()\n",
    "        self.text = soup.body.get_text(separator=\"\\n\", strip=True)"
   ]
  },
  {
   "cell_type": "code",
   "execution_count": 14,
   "id": "fbb91b05-b482-42a3-b61d-ba86e1cfc73f",
   "metadata": {},
   "outputs": [],
   "source": [
    "system_prompt = \"You are an assistant that analyzes the contents of a website \\\n",
    "and provides a short summary, ignoring text that might be navigation related. \\\n",
    "Respond in markdown.\""
   ]
  },
  {
   "cell_type": "code",
   "execution_count": 16,
   "id": "724b0dc1-1d64-4df7-90fb-ceeee52d3b13",
   "metadata": {},
   "outputs": [],
   "source": [
    "def user_prompt_for(website):\n",
    "    user_prompt = f\"You are looking at a website titled {website.title}\"\n",
    "    user_prompt += \"\\nThe contents of this website is as follows; \\\n",
    "please provide a short summary of this website in markdown. \\\n",
    "If it includes news or announcements, then summarize these too.\\n\\n\"\n",
    "    user_prompt += website.text\n",
    "    return user_prompt"
   ]
  },
  {
   "cell_type": "code",
   "execution_count": 19,
   "id": "c62e40b6-071a-46d5-95d4-cff36910cadc",
   "metadata": {},
   "outputs": [],
   "source": [
    "def messages_for(website):\n",
    "    return [\n",
    "        {\"role\": \"system\", \"content\": system_prompt},\n",
    "        {\"role\": \"user\", \"content\": user_prompt_for(website)}\n",
    "    ]"
   ]
  },
  {
   "cell_type": "code",
   "execution_count": 24,
   "id": "89174a08-f895-4e11-a476-629b573a3e5f",
   "metadata": {},
   "outputs": [],
   "source": [
    "def summarize(url):\n",
    "    website = Website(url)\n",
    "    prompt_for_website = user_prompt_for(website)\n",
    "    # print(prompt_for_website)\n",
    "    response = openai.responses.create(\n",
    "        model=\"gpt-4o-mini\",\n",
    "        input=prompt_for_website,\n",
    "    )\n",
    "    return response.output_text"
   ]
  },
  {
   "cell_type": "code",
   "execution_count": 26,
   "id": "1afa4b98-874b-4816-b3a1-72a71e5a7435",
   "metadata": {},
   "outputs": [],
   "source": [
    "url = 'https://pybitesplatform.com/bites/tag/data-structures'"
   ]
  },
  {
   "cell_type": "code",
   "execution_count": 28,
   "id": "33c9273d-0890-404b-be25-2f70f2695bbd",
   "metadata": {},
   "outputs": [],
   "source": [
    "def display_summary(url):\n",
    "    summary=summarize(url)\n",
    "    display(Markdown(summary))"
   ]
  },
  {
   "cell_type": "code",
   "execution_count": 29,
   "id": "7aab2e3d-838e-4674-aa60-7d104431b738",
   "metadata": {},
   "outputs": [
    {
     "data": {
      "text/markdown": [
       "# Pybites Platform Summary\n",
       "\n",
       "The **Pybites Platform** is a comprehensive resource aimed at enhancing Python programming skills through various exercises and learning paths. It features multiple sections designed for different skill levels, including:\n",
       "\n",
       "- **Exercises**: Organized into categories like Newbie Bites, Intro Bites, and Regular Bites.\n",
       "- **Learning Paths**: Structured learning experiences to guide users through specific topics.\n",
       "- **Python Tips**: Helpful suggestions for improving coding practices.\n",
       "\n",
       "## Key Sections\n",
       "\n",
       "- **Exercises**\n",
       "  - **Data Structures Bite Exercises**: Exercises that focus on concepts like list comprehensions, sorting, and data structures. \n",
       "- **Community**: A space for users to engage with each other.\n",
       "- **Coaching**: Personalized guidance available for learners.\n",
       "- **Help**: Resources, FAQs, and support options for users.\n",
       "\n",
       "## News and Announcements\n",
       "\n",
       "The website does not mention specific news or announcements but remains updated with resources for learners looking to enhance their Python skills. \n",
       "\n",
       "Feel free to explore the myriad of exercises and learning opportunities offered to boost your Python programming capabilities!"
      ],
      "text/plain": [
       "<IPython.core.display.Markdown object>"
      ]
     },
     "metadata": {},
     "output_type": "display_data"
    }
   ],
   "source": [
    "display_summary(url)"
   ]
  }
 ],
 "metadata": {
  "kernelspec": {
   "display_name": "Python 3 (ipykernel)",
   "language": "python",
   "name": "python3"
  },
  "language_info": {
   "codemirror_mode": {
    "name": "ipython",
    "version": 3
   },
   "file_extension": ".py",
   "mimetype": "text/x-python",
   "name": "python",
   "nbconvert_exporter": "python",
   "pygments_lexer": "ipython3",
   "version": "3.11.12"
  }
 },
 "nbformat": 4,
 "nbformat_minor": 5
}
