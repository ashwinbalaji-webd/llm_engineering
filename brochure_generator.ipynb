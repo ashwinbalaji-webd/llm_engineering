{
 "cells": [
  {
   "cell_type": "code",
   "execution_count": 93,
   "id": "320dbcbf-b287-4e82-a55a-e4045ccd015a",
   "metadata": {},
   "outputs": [],
   "source": [
    "import ollama\n",
    "import requests\n",
    "from IPython.display import Markdown, display, update_display\n",
    "from dotenv import load_dotenv\n",
    "from bs4 import BeautifulSoup\n",
    "from openai import OpenAI\n",
    "import os\n",
    "import json"
   ]
  },
  {
   "cell_type": "code",
   "execution_count": 14,
   "id": "f4eb24be-ee97-408c-bb9d-2c77f683a518",
   "metadata": {},
   "outputs": [
    {
     "name": "stdout",
     "output_type": "stream",
     "text": [
      "API key looks good so far\n"
     ]
    }
   ],
   "source": [
    "load_dotenv(override=True)\n",
    "api_key = os.getenv('OPENAI_API_KEY')\n",
    "\n",
    "if api_key and api_key.startswith('sk-proj-') and len(api_key)>10:\n",
    "    print(\"API key looks good so far\")\n",
    "else:\n",
    "    print(\"There might be a problem with your API key? Please visit the troubleshooting notebook!\")\n",
    "    \n",
    "MODEL = 'gpt-4o-mini'\n",
    "openai = OpenAI()"
   ]
  },
  {
   "cell_type": "code",
   "execution_count": 38,
   "id": "4c8695fb-dcc0-4dd5-80cd-f493434c5eee",
   "metadata": {},
   "outputs": [],
   "source": [
    "link_system_prompt = \"You are provided with a list of links found on a webpage. \\\n",
    "You are able to decide which of the links would be most relevant to include in a brochure about the company, \\\n",
    "such as links to an About page, or a Company page, or Careers/Jobs pages.\\n\"\n",
    "link_system_prompt += \"You should respond in JSON as in this example:\"\n",
    "link_system_prompt += \"\"\"\n",
    "{\n",
    "    \"links\": [\n",
    "        {\"type\": \"about page\", \"url\": \"https://full.url/goes/here/about\"},\n",
    "        {\"type\": \"careers page\": \"url\": \"https://another.full.url/careers\"}\n",
    "    ]\n",
    "}\n",
    "\"\"\""
   ]
  },
  {
   "cell_type": "code",
   "execution_count": 6,
   "id": "bbd965a5-fd7b-4f82-a017-47a0b9c7fa37",
   "metadata": {},
   "outputs": [
    {
     "data": {
      "text/plain": [
       "'You are provided with a list of links found on a webpage. You are able to decide which of the links would be most relevant to include in a brochure about the company, such as links to an About page, or a Company page, or Careers/Jobs pages.\\nYou should respond in JSON as in this example:\\n{\\n    \"links\": [\\n        {\"type\": \"about page\", \"url\": \"https://full.url/goes/here/about\"},\\n        {\"type\": \"careers page\": \"url\": \"https://another.full.url/careers\"}\\n    ]\\n}\\n'"
      ]
     },
     "execution_count": 6,
     "metadata": {},
     "output_type": "execute_result"
    }
   ],
   "source": [
    "link_system_prompt"
   ]
  },
  {
   "cell_type": "code",
   "execution_count": 16,
   "id": "f7d4d81c-69b0-481b-a7a8-9f740c32dfe2",
   "metadata": {},
   "outputs": [],
   "source": [
    "headers = {\n",
    " \"User-Agent\": 'Mozilla/5.0 (X11; Linux x86_64) AppleWebKit/537.36 (KHTML, like Gecko) Chrome/132.0.0.0 Safari/537.36'\n",
    "}\n"
   ]
  },
  {
   "cell_type": "code",
   "execution_count": 76,
   "id": "290b680b-99c6-4244-b65d-4bc1300bad1d",
   "metadata": {},
   "outputs": [],
   "source": [
    "class Website:\n",
    "    def __init__(self, url):\n",
    "        self.url = url\n",
    "        response = requests.get(self.url, headers = headers)\n",
    "        self.body = response.content\n",
    "        soup = BeautifulSoup(self.body, 'html.parser')\n",
    "        self.title = soup.title.string if soup.title else \"No title found\" \n",
    "        if soup.body:\n",
    "            for irrelevant in soup.body.find_all(['style', 'script', 'img', 'input']):\n",
    "                irrelevant.decompose()\n",
    "            self.text = soup.body.get_text(separator = '\\n', strip=True)\n",
    "        else:\n",
    "            self.text = \"\"\n",
    "        links = [link.get('href') for link in soup.find_all('a')]\n",
    "        self.links = [link for link in links if link]\n",
    "        \n",
    "    def get_contents(self):\n",
    "        return f\"Webpage Title:\\n{self.title}\\nWebpage Contents:\\n{self.text}\\n\\n\"\n"
   ]
  },
  {
   "cell_type": "code",
   "execution_count": 22,
   "id": "0595b25d-cf9a-4a08-abce-e488e8afe2d1",
   "metadata": {},
   "outputs": [],
   "source": [
    "def get_links_user_prompt(website):\n",
    "    user_prompt = f\"Here is the list of links on the website of {website.url} - \"\n",
    "    user_prompt += \"please decide which of these are relevant web links for a brochure about the company, respond with the full https URL in JSON format. \\\n",
    "Do not include Terms of Service, Privacy, email links.\\n\"\n",
    "    user_prompt += \"Links (some might be relative links):\\n\"\n",
    "    user_prompt += \"\\n\".join(website.links)\n",
    "\n",
    "    return user_prompt"
   ]
  },
  {
   "cell_type": "code",
   "execution_count": null,
   "id": "f715453f-60f3-4ecc-b049-bcfb6ded2938",
   "metadata": {},
   "outputs": [],
   "source": [
    "def get_links(url):\n",
    "    website = Website(url)\n",
    "    response = openai.responses.create(\n",
    "        model=\"gpt-4o-mini\",\n",
    "        input=[\n",
    "            {\"role\": \"system\", \"content\": link_system_prompt},\n",
    "            {\"role\": \"user\", \"content\": get_links_user_prompt(website)}\n",
    "      ]\n",
    "    )\n",
    "    raw_response_text = response.output_text\n",
    "    cleaned_response_text = raw_response_text.strip()\n",
    "    # Remove '```json' from the start and '```' from the end\n",
    "    if cleaned_response_text.startswith('```json'):\n",
    "        cleaned_response_text = cleaned_response_text[len('```json'):].strip()\n",
    "    if cleaned_response_text.endswith('```'):\n",
    "        cleaned_response_text = cleaned_response_text[:-len('```')].strip()\n",
    "    try:\n",
    "        return json.loads(cleaned_response_text)\n",
    "    except json.JSONDecodeError as e:\n",
    "        print(f\"\\nJSONDecodeError: Failed to decode JSON from API response for URL: {url}\")\n",
    "        print(f\"Error details: {e}\")\n",
    "        print(f\"The problematic string that caused the error was: '{response.output_text}'\")\n",
    "        raise\n",
    "    except Exception as e:\n",
    "        print(f\"\\nAn unexpected error occurred in get_links for URL: {url}\")\n",
    "        print(f\"Error details: {e}\")\n",
    "        raise # Re-raise for now to see the full traceback\n",
    "    "
   ]
  },
  {
   "cell_type": "code",
   "execution_count": 78,
   "id": "ba1eb60e-63e8-4578-bcd2-d9cb119fc60f",
   "metadata": {},
   "outputs": [],
   "source": [
    "url = \"https://www.cursor.com/\"\n",
    "name = \"Cursor\""
   ]
  },
  {
   "cell_type": "code",
   "execution_count": 84,
   "id": "9eb81166-e2fb-4246-bd7a-91dca3826766",
   "metadata": {},
   "outputs": [],
   "source": [
    "brochure_system_prompt = \"You are an assistant that analyzes the contents of several relevant pages from a company website \\\n",
    "and creates a short brochure about the company for prospective customers, investors and recruits. Respond in markdown.\\\n",
    "Include details of company culture, customers and careers/jobs if you have the information.\""
   ]
  },
  {
   "cell_type": "code",
   "execution_count": 85,
   "id": "7def3614-10e9-4841-a357-0a3f68c6a452",
   "metadata": {},
   "outputs": [],
   "source": [
    "def get_brochure_user_prompt(company_name, url):\n",
    "    user_prompt = f\"You are looking at a company called: {company_name}\\n\"\n",
    "    user_prompt += f\"Here are the contents of its landing page and other relevant pages; use this information to build a short brochure of the company in markdown.\\n\"\n",
    "    user_prompt += get_all_details(url)\n",
    "    user_prompt = user_prompt[:5_000] # Truncate if more than 5,000 characters\n",
    "    return user_prompt"
   ]
  },
  {
   "cell_type": "code",
   "execution_count": 86,
   "id": "1e6af842-d30a-4684-b1d2-8bf2f345347c",
   "metadata": {},
   "outputs": [],
   "source": [
    "def create_brochure(company_name, url):\n",
    "    response = openai.chat.completions.create(\n",
    "        model=MODEL,\n",
    "        messages=[\n",
    "            {\"role\": \"system\", \"content\": brochure_system_prompt},\n",
    "            {\"role\": \"user\", \"content\": get_brochure_user_prompt(company_name, url)}\n",
    "          ],\n",
    "    )\n",
    "    result = response.choices[0].message.content\n",
    "    display(Markdown(result))"
   ]
  },
  {
   "cell_type": "code",
   "execution_count": 87,
   "id": "252cf533-8468-427c-ba29-00fff1f686dd",
   "metadata": {},
   "outputs": [
    {
     "name": "stdout",
     "output_type": "stream",
     "text": [
      "Found links: {'links': [{'type': 'home page', 'url': 'https://www.cursor.com/'}, {'type': 'pricing page', 'url': 'https://www.cursor.com/pricing'}, {'type': 'features page', 'url': 'https://www.cursor.com/features'}, {'type': 'enterprise page', 'url': 'https://www.cursor.com/enterprise'}, {'type': 'blog page', 'url': 'https://www.cursor.com/blog'}, {'type': 'downloads page', 'url': 'https://www.cursor.com/downloads'}, {'type': 'students page', 'url': 'https://www.cursor.com/students'}, {'type': 'community page', 'url': 'https://www.cursor.com/community'}, {'type': 'documentation page', 'url': 'https://docs.cursor.com'}]}\n"
     ]
    },
    {
     "data": {
      "text/markdown": [
       "# Cursor: The AI Code Editor\n",
       "\n",
       "---\n",
       "\n",
       "### About Us\n",
       "Cursor is revolutionizing the way developers interact with code. Designed to dramatically enhance productivity, our state-of-the-art AI code editor assists developers at every step of their coding journey. Trusted by leading companies like **Johnson & Johnson**, **OpenAI**, **Stripe**, **Samsung**, **Instacart**, and many more, Cursor represents the pinnacle of intelligent software development.\n",
       "\n",
       "---\n",
       "\n",
       "### What We Offer\n",
       "- **Smart Code Predictions**: Cursor effortlessly predicts your next code edit, allowing you to breeze through changes.\n",
       "- **Natural Language Editing**: Write your code using plain instructions to make large updates efficiently.\n",
       "- **Customizable Experience**: Import your favorite extensions, themes, and keybindings in just one click.\n",
       "- **Strong Privacy Measures**: Our Privacy Mode ensures your code is never stored remotely, and we are SOC 2 certified for data security.\n",
       "\n",
       "---\n",
       "\n",
       "### Testimonials\n",
       "Our users love us! Here’s what developers are saying:\n",
       "> \"Cursor is hands down my biggest workflow improvement in years.\"  \n",
       "> — **Sawyer Hood, Figma**\n",
       "\n",
       "> \"With Cursor, I type ‘tab’ more than anything else. It is steps ahead of my brain.\"  \n",
       "> — **Andrew Milich, Notion**\n",
       "\n",
       "> \"Cursor's new auto-complete is insane; it predicts what code you want based on what you're doing!\"  \n",
       "> — **Marc Köhlbrugge, WIP**\n",
       "\n",
       "---\n",
       "\n",
       "### Company Culture\n",
       "At Cursor, we foster an innovative and inclusive work environment that values creativity, collaboration, and continuous learning. We believe in empowering our team members to think outside the box and always strive for improvement. The rapid pace of development means that employees can contribute ideas and see them implemented quickly, creating a dynamic workplace where everyone feels valued.\n",
       "\n",
       "---\n",
       "\n",
       "### Career Opportunities\n",
       "We are always looking for passionate individuals to join our growing team! If you are eager to work at the intersection of AI and software development and want to make a significant impact with your work, **[Explore Careers at Cursor](#)**.\n",
       "\n",
       "- **Open Positions**: Software Engineers, Product Managers, AI Specialists, and more.\n",
       "- **Work-Life Balance**: We offer flexible work hours and a supportive remote work policy.\n",
       "\n",
       "---\n",
       "\n",
       "### Join Cursor Today!\n",
       "Whether you’re an individual developer or part of a larger organization, discover how Cursor can transform your coding experience. **[Download Now](#)** or visit our **[Blog](#)** to see how we're leading the industry in AI-based coding tools!\n",
       "\n",
       "For any inquiries, feel free to reach out through our **[Forum](#)** – we’d love to hear from you!\n",
       "\n",
       "---\n",
       "\n",
       "Transform the way you code with Cursor – your AI-powered coding partner."
      ],
      "text/plain": [
       "<IPython.core.display.Markdown object>"
      ]
     },
     "metadata": {},
     "output_type": "display_data"
    }
   ],
   "source": [
    "create_brochure(name, url)"
   ]
  },
  {
   "cell_type": "code",
   "execution_count": 91,
   "id": "132db196-beb9-41d2-bd9a-83f8a75ff9c3",
   "metadata": {},
   "outputs": [],
   "source": [
    "def stream_brochure(company_name, url):\n",
    "    stream = openai.chat.completions.create(\n",
    "        model=MODEL,\n",
    "        messages=[\n",
    "            {\"role\": \"system\", \"content\": brochure_system_prompt},\n",
    "            {\"role\": \"user\", \"content\": get_brochure_user_prompt(company_name, url)}\n",
    "          ],\n",
    "        stream=True\n",
    "    )\n",
    "    \n",
    "    response = \"\"\n",
    "    display_handle = display(Markdown(\"\"), display_id=True)\n",
    "    for chunk in stream:\n",
    "        print(chunk)\n",
    "        response += chunk.choices[0].delta.content or ''\n",
    "        response = response.replace(\"```\",\"\").replace(\"markdown\", \"\")\n",
    "        update_display(Markdown(response), display_id=display_handle.display_id)"
   ]
  },
  {
   "cell_type": "code",
   "execution_count": 95,
   "id": "d1082d8a-e961-453e-984d-d98dd8dd7003",
   "metadata": {},
   "outputs": [
    {
     "name": "stdout",
     "output_type": "stream",
     "text": [
      "Found links: {'links': [{'type': 'about page', 'url': 'https://www.cursor.com/'}, {'type': 'pricing page', 'url': 'https://www.cursor.com/pricing'}, {'type': 'features page', 'url': 'https://www.cursor.com/features'}, {'type': 'enterprise page', 'url': 'https://www.cursor.com/enterprise'}, {'type': 'blog page', 'url': 'https://www.cursor.com/blog'}, {'type': 'downloads page', 'url': 'https://www.cursor.com/downloads'}, {'type': 'students page', 'url': 'https://www.cursor.com/students'}, {'type': 'community page', 'url': 'https://www.cursor.com/community'}, {'type': 'documentation', 'url': 'https://docs.cursor.com'}, {'type': 'careers page', 'url': 'https://anysphere.inc'}]}\n"
     ]
    },
    {
     "data": {
      "text/markdown": [
       "# Cursor: The AI Code Editor Brochure\n",
       "\n",
       "## Transform Your Coding Experience\n",
       "\n",
       "Welcome to **Cursor**, the cutting-edge AI code editor designed to elevate your productivity and streamline your coding process. Since its inception, Cursor has helped developers achieve enhancements in their workflow, allowing engineers to focus on what truly matters: building amazing software.\n",
       "\n",
       "### Why Choose Cursor?\n",
       "\n",
       "- **AI-Powered Productivity**: Cursor is built to make you extraordinarily productive. With intelligent suggestions and autocomplete features, you can breeze through changes and edits like never before.\n",
       "- **Familiar Environment**: Bring your favorite extensions and keybindings into Cursor with just one click, making the transition seamless and comfortable.\n",
       "- **Privacy & Security**: Your code is never stored remotely, ensuring your projects remain private and secure. Cursor is SOC 2 certified to offer peace of mind.\n",
       "\n",
       "### Trusted by Industry Leaders\n",
       "\n",
       "Cursor is used by engineers at top companies including:\n",
       "\n",
       "- **Johnson & Johnson**\n",
       "- **OpenAI**\n",
       "- **Stripe**\n",
       "- **Samsung**\n",
       "- **Instacart**\n",
       "- **Shopify**\n",
       "\n",
       "Our users rave about Cursor:\n",
       "\n",
       "> \"Cursor is hands down my biggest workflow improvement in years.\" - *Sawyer Hood, Figma*\n",
       "\n",
       "> \"It's amazing having an AI pair programmer.\" - *Ben Bernard, Instacart*\n",
       "\n",
       "### Features That Boost Your Workflow\n",
       "\n",
       "- **Predictive Editing**: Cursor anticipates your next move, suggesting relevant edits and changes quickly.\n",
       "- **Natural Language Coding**: Write whole functions or classes with simple instructions and watch Cursor make the necessary adjustments for you.\n",
       "- **Frequent Updates**: Our team consistently improves Cursor, adding new features to enhance the user experience.\n",
       "\n",
       "### Company Culture\n",
       "\n",
       "At Cursor, we foster a culture of innovation and collaboration. Our work environment is built on mutual respect and the shared goal of enhancing the developer experience. We value creativity, passion for technology, and the drive to solve complex problems. Join us, and become part of our thriving community that celebrates the fusion of AI and coding.\n",
       "\n",
       "### Career Opportunities\n",
       "\n",
       "We are on the lookout for talented and motivated individuals who are ready to contribute to the future of coding. Explore exciting career opportunities at Cursor where your ideas can shape the development landscape.\n",
       "\n",
       "- **Current Openings**: Check our Careers page for the latest job opportunities.\n",
       "- **Work Environment**: Be part of a dynamic team that values growth, learning, and professional development.\n",
       "\n",
       "### Get Started with Cursor Today\n",
       "\n",
       "Discover how Cursor can revolutionize your coding experience. Download the app for **MacOS** and enjoy seamless coding powered by AI.\n",
       "\n",
       "#### Connect With Us\n",
       "\n",
       "Stay updated by visiting our Blog and Forum. Join the conversation, share your insights, and learn from fellow developers.\n",
       "\n",
       "**[Download Cursor](#)** | **[Explore Features](#)** | **[Join Our Team](#)**\n",
       "\n",
       "---\n",
       "\n",
       "Elevate your coding journey with **Cursor**, where technology meets creativity. Experience the future of programming today!"
      ],
      "text/plain": [
       "<IPython.core.display.Markdown object>"
      ]
     },
     "metadata": {},
     "output_type": "display_data"
    }
   ],
   "source": [
    "stream_brochure(name, url)"
   ]
  }
 ],
 "metadata": {
  "kernelspec": {
   "display_name": "Python 3 (ipykernel)",
   "language": "python",
   "name": "python3"
  },
  "language_info": {
   "codemirror_mode": {
    "name": "ipython",
    "version": 3
   },
   "file_extension": ".py",
   "mimetype": "text/x-python",
   "name": "python",
   "nbconvert_exporter": "python",
   "pygments_lexer": "ipython3",
   "version": "3.11.12"
  }
 },
 "nbformat": 4,
 "nbformat_minor": 5
}
